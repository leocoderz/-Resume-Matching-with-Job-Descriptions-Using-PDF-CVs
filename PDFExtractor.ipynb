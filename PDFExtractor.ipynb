{
  "nbformat": 4,
  "nbformat_minor": 0,
  "metadata": {
    "colab": {
      "provenance": []
    },
    "kernelspec": {
      "name": "python3",
      "display_name": "Python 3"
    },
    "language_info": {
      "name": "python"
    }
  },
  "cells": [
    {
      "cell_type": "code",
      "execution_count": null,
      "metadata": {
        "id": "KjB_QoZLIyI2"
      },
      "outputs": [],
      "source": [
        "import os\n",
        "import pypdf\n",
        "from pypdf import PdfReader\n",
        "import pandas as pd"
      ]
    },
    {
      "cell_type": "code",
      "source": [
        "os.getcwd()"
      ],
      "metadata": {
        "colab": {
          "base_uri": "https://localhost:8080/",
          "height": 36
        },
        "id": "4ygwWuecJZl-",
        "outputId": "60559035-c4c3-4336-dcbc-1ca69b12c6d3"
      },
      "execution_count": null,
      "outputs": [
        {
          "output_type": "execute_result",
          "data": {
            "text/plain": [
              "'/content'"
            ],
            "application/vnd.google.colaboratory.intrinsic+json": {
              "type": "string"
            }
          },
          "metadata": {},
          "execution_count": 21
        }
      ]
    },
    {
      "cell_type": "code",
      "source": [
        "path_to_resume_catergories=os.getcwd()+'/archive/data/data'\n",
        "list_of_catergories=os.listdir(os.getcwd()+'/archive/data/data')\n",
        "df=pd.DataFrame(columns=['Category','File_name','resume_text'])\n",
        "for each_catergory in list_of_catergories:\n",
        "    # print(each_catergory)\n",
        "    # print(type(each_catergory))\n",
        "    list_of_pdf_in_each_category = os.listdir(path_to_resume_catergories+'/'+each_catergory)\n",
        "    for each_pdf in list_of_pdf_in_each_category[:5]:\n",
        "        # print(each_pdf)\n",
        "        pdf_path=path_to_resume_catergories+'/'+each_catergory+'/'+each_pdf\n",
        "        reader = PdfReader(pdf_path)\n",
        "        number_of_pages = len(reader.pages)\n",
        "        text=''\n",
        "        for each in range(number_of_pages):\n",
        "            page = reader.pages[each]\n",
        "            text = text+page.extract_text()\n",
        "        # print(text[:100])\n",
        "        row_data=[[each_catergory,each_pdf,text]]\n",
        "        row_df=(pd.DataFrame(row_data,columns=['Category','File_name','resume_text']))\n",
        "        df=pd.merge(df,row_df,how='outer')\n"
      ],
      "metadata": {
        "id": "K4wZfx4rShiX"
      },
      "execution_count": null,
      "outputs": []
    },
    {
      "cell_type": "code",
      "source": [
        "df.to_csv(\"resume_data.csv\")"
      ],
      "metadata": {
        "id": "o-SIGLMxthCz"
      },
      "execution_count": null,
      "outputs": []
    }
  ]
}